{
 "cells": [
  {
   "cell_type": "markdown",
   "metadata": {},
   "source": [
    "<img src=\"img/logo.png\" height=\"400\" width=\"200\">"
   ]
  },
  {
   "cell_type": "markdown",
   "metadata": {},
   "source": [
    "### Estructura de Datos y Algoritmos I\n",
    "\n",
    "### Elaborado por:\n",
    "\n",
    "* Granados Villeda Johan Raciel"
   ]
  },
  {
   "cell_type": "markdown",
   "metadata": {},
   "source": [
    "### Problema 1\n",
    "1.Crear una función que para convertir  un número de años en meses,  días,  horas y segundos.\n",
    "\n",
    "In[*]: separarTiempo(10)\n",
    "\n",
    "Meses: 120\n",
    "\n",
    "Días: 3652.5\n",
    "\n",
    "Horas: 87660\n",
    "\n",
    "Minutos: 5259600\n",
    "\n",
    "Segundos: 315576000"
   ]
  },
  {
   "cell_type": "code",
   "execution_count": 1,
   "metadata": {},
   "outputs": [
    {
     "name": "stdout",
     "output_type": "stream",
     "text": [
      "Meses: 120\n",
      "Dias 3652.5\n",
      "Horas: 87660.0\n",
      "Minutos: 5259600.0\n",
      "Segundos: 315576000.0\n"
     ]
    }
   ],
   "source": [
    "def separarTiempo(tm): #Defino funcion\n",
    "    m=tm*12 #calculo meses\n",
    "    print(\"Meses:\",m )#imprimo\n",
    "    d=tm*365.25 #calculo dias\n",
    "    print(\"Dias\",d) #imprimo\n",
    "    h=tm*24*365.25 #calculo horas\n",
    "    print(\"Horas:\",h ) #imprimo\n",
    "    mi=tm*60*24*365.25 #calculo minutos\n",
    "    print(\"Minutos:\",mi ) #imprimo\n",
    "    seg=tm*60*60*24*365.25 #calculo segundos\n",
    "    print(\"Segundos:\",seg) #imprimo\n",
    "\n",
    "separarTiempo(10)"
   ]
  },
  {
   "cell_type": "markdown",
   "metadata": {},
   "source": [
    "### Problema 2\n",
    "2.Crear dos funciones para calcular el área y el perímetro de un triangulo a partir de 3 parámetros representado cada uno por un punto con coordenadas x, y .\n",
    "\n",
    "In[*]:\ta=[1,2]\n",
    "\n",
    "b=[2,6]\n",
    "\n",
    "c=[5,8]\n",
    "\n",
    "In[*]: area(a,b,c)\n",
    "\n",
    "40.3\n",
    "\n",
    "In[*]:perímetro(a,b,c)\n",
    "\n",
    "20.1"
   ]
  },
  {
   "cell_type": "code",
   "execution_count": null,
   "metadata": {},
   "outputs": [
    {
     "name": "stdout",
     "output_type": "stream",
     "text": [
      "Perimetro:\n",
      "14.939759452009628\n",
      "Area:\n",
      "5.0000000000000036\n"
     ]
    }
   ],
   "source": [
    "import math\n",
    "def area(p,a,b,c):\n",
    "    s=p/2\n",
    "    area=math.sqrt(s*(s-a)*(s-b)*(s-c))\n",
    "    print (area)\n",
    "def perimetro(a,b,c):\n",
    "    perimetro=a+b+c\n",
    "    print (perimetro)\n",
    "    return perimetro\n",
    "def lados(a,b,c):\n",
    "    AB=math.sqrt((b[0]-a[0])**2 + (b[1]-a[1])**2)\n",
    "    AC=math.sqrt((a[0]-c[0])**2 + (a[1]-c[1])**2)\n",
    "    BC=math.sqrt((b[0]-c[0])**2 + (b[1]-c[1])**2)\n",
    "    return AB, AC, BC\n",
    "\n",
    "a=[1,2]\n",
    "b=[2,6]\n",
    "c=[5,8]\n",
    "AB, AC, BC = lados(a,b,c)\n",
    "#print(AB, AC,BC) #Para verificar\n",
    "print(\"Perimetro:\")\n",
    "P=perimetro (AB, AC, BC)\n",
    "print(\"Area:\")\n",
    "area (P,AB, AC, BC)"
   ]
  },
  {
   "cell_type": "markdown",
   "metadata": {},
   "source": [
    "### Problema 3\n",
    "\n",
    "3.Crear una script en Python 3 que permita almacenar la colección de libros de una biblioteca. \n",
    "Con las operaciones Agregar, Eliminar, Modificar y Mostar. La función de modificar lo hace un campo a la vez (por ej. solo el Título, o el Autor).\n",
    " Los campos de cada libro son los siguientes:\n",
    "\n",
    "-Título\n",
    "\n",
    "-Autor\n",
    "\n",
    "-Editorial\n",
    "\n",
    "-Lugar\n",
    "\n",
    "-Año\n",
    "\n",
    "-ISBN"
   ]
  },
  {
   "cell_type": "code",
   "execution_count": null,
   "metadata": {},
   "outputs": [
    {
     "name": "stdout",
     "output_type": "stream",
     "text": [
      "Titulo:\n"
     ]
    }
   ],
   "source": [
    "libros = {}\n",
    "libros[1]={'Titulo': \"La Quinta Ola\",'Autor':\"Rick Yancey\",'Editorial': \"Molino\",'Lugar':\"Barcelona\",'Año': 2013,'ISBN':\"978-607-527-146-0\"}\n",
    "libros[2]={'Titulo': \"El mar infinito\",'Autor':\"Rick Yancey\",'Editorial': \"Molino\",'Lugar':\"Barcelona\",'Año': 2014,'ISBN':\"978-605-526-145-0\"}\n",
    "libros[3]={'Titulo': \"La última estrella\",'Autor':\"Rick Yancey\",'Editorial': \"Molino\",'Lugar':\"Barcelona\",'Año': 2016,'ISBN':\"979-608-528-147-0\"}\n",
    "\n",
    "def agregar(libros):\n",
    "    import random\n",
    "    y=random.randrange(100)\n",
    "    while(y in libros or int(y) in libros):\n",
    "        import random\n",
    "        y=random.randrange(100)\n",
    "    print(\"Titulo:\")\n",
    "    Titulo = input()\n",
    "    print(\"Autor:\")\n",
    "    Autor = input()\n",
    "    print(\"Editorial:\")\n",
    "    Editorial = input()\n",
    "    print(\"Lugar:\")\n",
    "    Lugar = input()\n",
    "    print(\"Año:\")\n",
    "    Año = input()\n",
    "    print(\"ISBN:\")\n",
    "    ISBN = input()\n",
    "    libros[int(y)]={'Titulo':Titulo,'Autor':Autor,'Editorial':Editorial,'Lugar':Lugar,'Año':Año,'ISBN':ISBN}\n",
    "\n",
    "def eliminar(libros,num):\n",
    "    if num in libros or int(num) in libros:\n",
    "        del(libros[int(num)])\n",
    "    else:\n",
    "        print(\"\\n\\nEl libro no exite\\n\")\n",
    "\n",
    "def modificar(libros,num,opc):\n",
    "    opc=int(opc)\n",
    "    if num in libros or int(num) in libros:\n",
    "        if opc==1:\n",
    "            print(\"Titulo:\")\n",
    "            Titulo = input()\n",
    "            libros[int(num)]['Titulo'] = Titulo\n",
    "        if opc==2:\n",
    "            print(\"Autor:\")\n",
    "            Autor = input()\n",
    "            libros[int(num)]['Autor'] = Autor\n",
    "        if opc==3:\n",
    "            print(\"Editorial:\")\n",
    "            Editorial = input()\n",
    "            libros[int(num)]['Editorial'] = Editorial\n",
    "        if opc==4:\n",
    "            print(\"Lugar:\")\n",
    "            Lugar = input()\n",
    "            libros[int(num)]['Lugar'] = Lugar\n",
    "        if opc==5:\n",
    "            print(\"Año:\")\n",
    "            Año = input()\n",
    "            libros[int(num)]['Año'] = Año\n",
    "        if opc==6:\n",
    "            print(\"ISBN:\")\n",
    "            ISBN = input()\n",
    "            libros[int(num)]['ISBN'] = ISBN\n",
    "        if opc<0 or opc>7:\n",
    "            print(\"opcion no valida\")\n",
    "    else:\n",
    "        print(\"\\n\\nEl libro no exite\\n\")\n",
    "\n",
    "def mostrar(libros,num):\n",
    "    if num in libros or int(num) in libros:\n",
    "        print (libros[int(num)])\n",
    "    else:\n",
    "        print(\"\\n\\nEl libro no existe\\n\")\n",
    "\n",
    "print (libros.keys())\n",
    "\n",
    "agregar(libros)\n",
    "print (libros.keys())\n",
    "\n",
    "print(\"\\n\\n¿que libro desea eliminar?\")\n",
    "print (libros.keys())\n",
    "num=input()\n",
    "eliminar(libros,num)\n",
    "\n",
    "print(\"\\n\\n¿que libro desea modificar?\")\n",
    "print (libros.keys())\n",
    "num=input()\n",
    "print(\"\\n\\n¿que desea modificar del libro? \\n1)Titulo\\n2)Autor\\n3)Editorial\\n4)Lugar\\n5)Año\\n6)ISBN\")\n",
    "opc=input()\n",
    "modificar(libros,num,opc)\n",
    "\n",
    "print(\"\\n\\n¿que libro desea mostrar?\")\n",
    "print (libros.keys())\n",
    "num=input()\n",
    "mostrar(libros,num)"
   ]
  }
 ],
 "metadata": {
  "kernelspec": {
   "display_name": "Python 3",
   "language": "python",
   "name": "python3"
  },
  "language_info": {
   "codemirror_mode": {
    "name": "ipython",
    "version": 3
   },
   "file_extension": ".py",
   "mimetype": "text/x-python",
   "name": "python",
   "nbconvert_exporter": "python",
   "pygments_lexer": "ipython3",
   "version": "3.6.1"
  }
 },
 "nbformat": 4,
 "nbformat_minor": 2
}
