{
 "cells": [
  {
   "cell_type": "markdown",
   "metadata": {},
   "source": [
    "# Práctica 12: Estrategias para la construcción de algoritmos (II)     EDA 1"
   ]
  },
  {
   "cell_type": "markdown",
   "metadata": {},
   "source": [
    "<img src=\"img/logo.png\" height=\"400\" width=\"200\">"
   ]
  },
  {
   "cell_type": "markdown",
   "metadata": {},
   "source": [
    "### Elaborado por:\n",
    "\n",
    "* Granados Villeda Johan Raciel\n"
   ]
  },
  {
   "cell_type": "markdown",
   "metadata": {},
   "source": [
    "## Objetivo:\n",
    "\n",
    ">El objetivo de esta guía es aplicar dos enfoques de diseño de algoritmos y analizar las implicaciones de cada uno de ellos. Al final de esta guía sabrás:\n",
    "\n",
    ">>1. Implementar Insertion sort y Quick sort, Graficar funciones usando la librería Matplotlib\n",
    ">>2. Generar listas de números aleatorios\n",
    ">>3. Utilizar en la notebook funciones guardadas en archivos\n",
    ">>4. Medir tiempos de ejecución\n",
    "\n",
    "## Problema:\n",
    "\n",
    ">1.Incluir los algoritmos de ordenamiento de Bubble sort y Merge Sort , para ser comparados con Insert Sort y Quick Sort, se debe generar una gráfica con el tiempo de ordenamiento para cada lista de números enteros con 100, 200, 300, …, 3000 números usando una dispersión en los datos entre 0 y 10000000 similar a la práctica. "
   ]
  },
  {
   "cell_type": "code",
   "execution_count": 1,
   "metadata": {},
   "outputs": [
    {
     "name": "stdout",
     "output_type": "stream",
     "text": [
      "Populating the interactive namespace from numpy and matplotlib\n"
     ]
    }
   ],
   "source": [
    "#Importando bibliotecas\n",
    "%pylab inline\n",
    "import matplotlib.pyplot as plt\n",
    "from mpl_toolkits.mplot3d import Axes3D"
   ]
  },
  {
   "cell_type": "code",
   "execution_count": 2,
   "metadata": {
    "collapsed": true
   },
   "outputs": [],
   "source": [
    "#Cargando módulos\n",
    "import random\n",
    "from time import time\n",
    "\n",
    "#Cargando las funciones guardadas en los archivo\n",
    "from insertionSort import insertionSort_time\n",
    "#Sólo se necesita llamar a la función principal\n",
    "from quickSort import quicksort_time\n",
    "from burbuja import bubbleSort\n",
    "from mergeSort import mergeSort"
   ]
  },
  {
   "cell_type": "code",
   "execution_count": 3,
   "metadata": {
    "collapsed": true
   },
   "outputs": [],
   "source": [
    "#Tamaños de la lista de números aleatorios a generar\n",
    "datos = [ii*150 for ii in range(1,21)] \n",
    "\n",
    "tiempo_is = []  #Lista para guardar el tiempo de ejecución de insert sort\n",
    "tiempo_qs = []  #Lista para guardar el tiempo de ejecución de quick sort\n",
    "tiempo_bs = []\n",
    "tiempo_ms = []\n",
    "\n",
    "for ii in datos:\n",
    "    lista_is = random.sample(range(0, 10000000), ii)\n",
    "    #Se hace una copia de la lista para que se ejecute el algoritmo con los mismo números\n",
    "    lista_qs = lista_is.copy() \n",
    "    lista_bs = lista_is.copy()\n",
    "    lista_ms = lista_is.copy()\n",
    "    \n",
    "    t0 = time()  #Se guarda el tiempo inicial\n",
    "    insertionSort_time(lista_is)\n",
    "    tiempo_is.append(round(time()-t0, 6))   #Se le resta al tiempo actual, el tiempo inicial\n",
    "    \n",
    "    t0 = time()    \n",
    "    quicksort_time(lista_qs)\n",
    "    tiempo_qs.append(round(time()-t0, 6))\n",
    "    \n",
    "    t0 = time()    \n",
    "    bubbleSort(lista_qs)\n",
    "    tiempo_bs.append(round(time()-t0, 6))\n",
    "    \n",
    "    t0 = time()    \n",
    "    mergeSort(lista_ms,0,len(lista_ms)-1)\n",
    "    tiempo_ms.append(round(time()-t0, 6))\n",
    "    "
   ]
  },
  {
   "cell_type": "code",
   "execution_count": 4,
   "metadata": {},
   "outputs": [
    {
     "name": "stdout",
     "output_type": "stream",
     "text": [
      "Tiempos parciales de ejecución en INSERT SORT [0.003098, 0.005597, 0.0149, 0.027247, 0.040774, 0.058578, 0.077101, 0.107943, 0.126072, 0.174445, 0.192223, 0.229864, 0.281299, 0.300249, 0.359249, 0.406501, 0.447029, 0.49721, 0.563065, 0.624079] [s] \n",
      "\n",
      "Tiempos parciales de ejecución en QUICK SORT [0.001306, 0.000908, 0.00139, 0.001914, 0.00275, 0.003148, 0.003801, 0.004199, 0.004849, 0.005386, 0.006253, 0.006954, 0.00769, 0.007936, 0.00831, 0.009731, 0.009312, 0.010618, 0.010536, 0.01103] [s]\n",
      "Tiempos parciales de ejecución en BUBBLE SORT [0.002019, 0.005721, 0.013196, 0.02355, 0.039086, 0.05733, 0.080159, 0.104186, 0.130208, 0.165053, 0.194168, 0.230493, 0.275675, 0.313002, 0.356188, 0.407589, 0.468489, 0.492311, 0.595049, 0.640447] [s]\n",
      "Tiempos parciales de ejecución en MERGE SORT [0.000888, 0.001967, 0.003195, 0.00433, 0.005717, 0.006911, 0.008539, 0.009804, 0.011001, 0.014212, 0.013625, 0.016245, 0.016703, 0.017798, 0.020176, 0.021013, 0.021758, 0.023535, 0.025516, 0.027334] [s]\n"
     ]
    }
   ],
   "source": [
    "#Imprimiendo tiempos parciales de ejecución\n",
    "print(\"Tiempos parciales de ejecución en INSERT SORT {} [s] \\n\".format(tiempo_is))\n",
    "print(\"Tiempos parciales de ejecución en QUICK SORT {} [s]\".format(tiempo_qs))\n",
    "print(\"Tiempos parciales de ejecución en BUBBLE SORT {} [s]\".format(tiempo_bs))\n",
    "print(\"Tiempos parciales de ejecución en MERGE SORT {} [s]\".format(tiempo_ms))"
   ]
  },
  {
   "cell_type": "code",
   "execution_count": 5,
   "metadata": {},
   "outputs": [
    {
     "name": "stdout",
     "output_type": "stream",
     "text": [
      "Tiempo total de ejecución en insert sort 4.536523 [s]\n",
      "Tiempo total de ejecución en quick sort 0.11802100000000001 [s]\n",
      "Tiempo total de ejecución en bubble sort 4.593919 [s]\n",
      "Tiempo total de ejecución en merge sort 0.27026700000000003 [s]\n"
     ]
    }
   ],
   "source": [
    "#Imprimiendo tiempos totales de ejecución\n",
    "#Para calcular el tiempo total se aplica la función sum() a las listas de tiempo\n",
    "print(\"Tiempo total de ejecución en insert sort {} [s]\".format(sum(tiempo_is)))\n",
    "print(\"Tiempo total de ejecución en quick sort {} [s]\".format(sum(tiempo_qs)))\n",
    "print(\"Tiempo total de ejecución en bubble sort {} [s]\".format(sum(tiempo_bs)))\n",
    "print(\"Tiempo total de ejecución en merge sort {} [s]\".format(sum(tiempo_ms)))"
   ]
  },
  {
   "cell_type": "code",
   "execution_count": 6,
   "metadata": {},
   "outputs": [
    {
     "data": {
      "image/png": "[encoded data removed]",
      "text/plain": [
       "<matplotlib.figure.Figure at 0x7fb8ab0b6828>"
      ]
     },
     "metadata": {},
     "output_type": "display_data"
    }
   ],
   "source": [
    "#Generando la gráfica\n",
    "fig, ax = subplots()\n",
    "ax.plot(datos, tiempo_is, label=\"insert sort\", marker=\"*\",color=\"r\")\n",
    "ax.plot(datos, tiempo_qs, label=\"quick sort\", marker=\"o\",color=\"b\")\n",
    "ax.plot(datos, tiempo_bs, label=\"bubble sort\", marker=\"v\",color=\"black\")\n",
    "ax.plot(datos, tiempo_ms, label=\"merge sort\", marker=\"v\",color=\"cyan\")\n",
    "ax.set_xlabel('Datos') \n",
    "ax.set_ylabel('Tiempo') \n",
    "ax.grid(True)\n",
    "ax.legend(loc=2); \n",
    "\n",
    "plt.title('Tiempo de ejecución [s] (insert vs. quick vs. bubble vs. merge)')\n",
    "plt.show()"
   ]
  },
  {
   "cell_type": "code",
   "execution_count": null,
   "metadata": {
    "collapsed": true
   },
   "outputs": [],
   "source": []
  }
 ],
 "metadata": {
  "kernelspec": {
   "display_name": "Python 3",
   "language": "python",
   "name": "python3"
  },
  "language_info": {
   "codemirror_mode": {
    "name": "ipython",
    "version": 3
   },
   "file_extension": ".py",
   "mimetype": "text/x-python",
   "name": "python",
   "nbconvert_exporter": "python",
   "pygments_lexer": "ipython3",
   "version": "3.6.1"
  }
 },
 "nbformat": 4,
 "nbformat_minor": 2
}
